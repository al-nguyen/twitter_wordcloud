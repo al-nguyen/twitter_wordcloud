{
 "cells": [
  {
   "cell_type": "code",
   "execution_count": 1,
   "metadata": {},
   "outputs": [],
   "source": [
    "import snscrape.modules.twitter as sntwitter\n",
    "import pandas as pd"
   ]
  },
  {
   "cell_type": "code",
   "execution_count": 2,
   "metadata": {
    "scrolled": true
   },
   "outputs": [
    {
     "name": "stdout",
     "output_type": "stream",
     "text": [
      "scrapped  0 tweets\n",
      "scrapped  100 tweets\n",
      "scrapped  200 tweets\n",
      "scrapped  300 tweets\n",
      "scrapped  400 tweets\n",
      "scrapped  500 tweets\n",
      "scrapped  600 tweets\n",
      "scrapped  700 tweets\n",
      "scrapped  800 tweets\n",
      "scrapped  900 tweets\n",
      "scrapped  1000 tweets\n",
      "scrapped  1100 tweets\n",
      "scrapped  1200 tweets\n",
      "scrapped  1300 tweets\n",
      "scrapped  1400 tweets\n",
      "scrapped  1500 tweets\n",
      "scrapped  1600 tweets\n",
      "scrapped  1700 tweets\n",
      "scrapped  1800 tweets\n",
      "scrapped  1900 tweets\n",
      "scrapped  2000 tweets\n",
      "scrapped  2100 tweets\n",
      "scrapped  2200 tweets\n",
      "scrapped  2300 tweets\n",
      "scrapped  2400 tweets\n",
      "scrapped  2500 tweets\n",
      "scrapped  2600 tweets\n",
      "scrapped  2700 tweets\n",
      "scrapped  2800 tweets\n",
      "scrapped  2900 tweets\n",
      "scrapped  3000 tweets\n",
      "scrapped  3100 tweets\n",
      "scrapped  3200 tweets\n",
      "scrapped  3300 tweets\n",
      "scrapped  3400 tweets\n",
      "scrapped  3500 tweets\n",
      "scrapped  3600 tweets\n",
      "scrapped  3700 tweets\n",
      "scrapped  3800 tweets\n",
      "scrapped  3900 tweets\n",
      "scrapped  4000 tweets\n",
      "scrapped  4100 tweets\n",
      "scrapped  4200 tweets\n",
      "scrapped  4300 tweets\n",
      "scrapped  4400 tweets\n",
      "scrapped  4500 tweets\n",
      "scrapped  4600 tweets\n",
      "scrapped  4700 tweets\n",
      "scrapped  4800 tweets\n",
      "scrapped  4900 tweets\n",
      "scrapped  5000 tweets\n",
      "scrapped  5100 tweets\n",
      "scrapped  5200 tweets\n",
      "scrapped  5300 tweets\n",
      "scrapped  5400 tweets\n",
      "scrapped  5500 tweets\n",
      "scrapped  5600 tweets\n",
      "scrapped  5700 tweets\n",
      "scrapped  5800 tweets\n",
      "scrapped  5900 tweets\n",
      "scrapped  6000 tweets\n",
      "scrapped  6100 tweets\n",
      "scrapped  6200 tweets\n",
      "scrapped  6300 tweets\n",
      "scrapped  6400 tweets\n",
      "scrapped  6500 tweets\n",
      "scrapped  6600 tweets\n",
      "scrapped  6700 tweets\n",
      "scrapped  6800 tweets\n",
      "scrapped  6900 tweets\n",
      "scrapped  7000 tweets\n",
      "scrapped  7100 tweets\n",
      "scrapped  7200 tweets\n",
      "scrapped  7300 tweets\n",
      "scrapped  7400 tweets\n",
      "scrapped  7500 tweets\n",
      "scrapped  7600 tweets\n",
      "scrapped  7700 tweets\n",
      "scrapped  7800 tweets\n",
      "scrapped  7900 tweets\n",
      "scrapped  8000 tweets\n",
      "scrapped  8100 tweets\n",
      "scrapped  8200 tweets\n",
      "scrapped  8300 tweets\n",
      "scrapped  8400 tweets\n",
      "scrapped  8500 tweets\n",
      "scrapped  8600 tweets\n",
      "scrapped  8700 tweets\n",
      "scrapped  8800 tweets\n",
      "scrapped  8900 tweets\n",
      "scrapped  9000 tweets\n",
      "scrapped  9100 tweets\n",
      "scrapped  9200 tweets\n",
      "scrapped  9300 tweets\n",
      "scrapped  9400 tweets\n",
      "scrapped  9500 tweets\n",
      "scrapped  9600 tweets\n",
      "scrapped  9700 tweets\n",
      "scrapped  9800 tweets\n",
      "scrapped  9900 tweets\n",
      "scrapped  10000 tweets\n",
      "scrapped  10100 tweets\n",
      "scrapped  10200 tweets\n",
      "scrapped  10300 tweets\n",
      "scrapped  10400 tweets\n",
      "scrapped  10500 tweets\n",
      "scrapped  10600 tweets\n",
      "scrapped  10700 tweets\n",
      "scrapped  10800 tweets\n",
      "scrapped  10900 tweets\n",
      "scrapped  11000 tweets\n",
      "scrapped  11100 tweets\n",
      "scrapped  11200 tweets\n",
      "scrapped  11300 tweets\n",
      "scrapped  11400 tweets\n",
      "scrapped  11500 tweets\n",
      "scrapped  11600 tweets\n",
      "scrapped  11700 tweets\n",
      "scrapped  11800 tweets\n",
      "scrapped  11900 tweets\n",
      "scrapped  12000 tweets\n",
      "scrapped  12100 tweets\n",
      "scrapped  12200 tweets\n",
      "scrapped  12300 tweets\n",
      "scrapped  12400 tweets\n",
      "scrapped  12500 tweets\n"
     ]
    }
   ],
   "source": [
    "# Setting variables to be used below\n",
    "maxTweets = 100000\n",
    "\n",
    "# Creating list to append tweet data to\n",
    "tweets_list1 = []\n",
    "\n",
    "# Using TwitterSearchScraper to scrape data and append tweets to list\n",
    "for i,tweet in enumerate(sntwitter.TwitterSearchScraper('from:elonmusk').get_items()):\n",
    "    if i%100 == 0:\n",
    "        print('scrapped ',i,'tweets')\n",
    "    if i>maxTweets:\n",
    "        break\n",
    "    tweets_list1.append([tweet.date, tweet.id, tweet.content, tweet.user.username])"
   ]
  },
  {
   "cell_type": "code",
   "execution_count": 3,
   "metadata": {},
   "outputs": [],
   "source": [
    "# Creating a dataframe from the tweets list above\n",
    "tweets_df1 = pd.DataFrame(tweets_list1, columns=['Datetime', 'Tweet Id', 'Text', 'Username'])\n",
    "\n",
    "# Display first 5 entries from dataframe\n",
    "tweets_df1.to_csv('elonmusk.csv', index=False)"
   ]
  },
  {
   "cell_type": "code",
   "execution_count": 4,
   "metadata": {},
   "outputs": [
    {
     "data": {
      "text/plain": [
       "(12508, 4)"
      ]
     },
     "execution_count": 4,
     "metadata": {},
     "output_type": "execute_result"
    }
   ],
   "source": [
    "tweets_df1.shape"
   ]
  },
  {
   "cell_type": "code",
   "execution_count": 23,
   "metadata": {
    "scrolled": true
   },
   "outputs": [],
   "source": [
    "# Creating list to append tweet data to\n",
    "tweets_list2 = []\n",
    "\n",
    "# Using TwitterSearchScraper to scrape data and append tweets to list\n",
    "for i,tweet in enumerate(sntwitter.TwitterSearchScraper('from:realDonaldTrump').get_items()):\n",
    "    if i%100 == 0:\n",
    "        print('scrapped ',i,'tweets')\n",
    "    if i>maxTweets:\n",
    "        break\n",
    "    tweets_list2.append([tweet.date, tweet.id, tweet.content, tweet.user.username])"
   ]
  },
  {
   "cell_type": "code",
   "execution_count": 18,
   "metadata": {},
   "outputs": [],
   "source": [
    "# Creating a dataframe from the tweets list above\n",
    "tweets_df2 = pd.DataFrame(tweets_list2, columns=['Datetime', 'Tweet Id', 'Text', 'Username'])\n",
    "\n",
    "# Display first 5 entries from dataframe\n",
    "tweets_df2.to_csv('billgates.csv', index=False)"
   ]
  },
  {
   "cell_type": "code",
   "execution_count": 19,
   "metadata": {},
   "outputs": [
    {
     "data": {
      "text/plain": [
       "(3166, 4)"
      ]
     },
     "execution_count": 19,
     "metadata": {},
     "output_type": "execute_result"
    }
   ],
   "source": [
    "tweets_df2.shape"
   ]
  },
  {
   "cell_type": "code",
   "execution_count": 20,
   "metadata": {
    "scrolled": true
   },
   "outputs": [
    {
     "data": {
      "text/html": [
       "<div>\n",
       "<style scoped>\n",
       "    .dataframe tbody tr th:only-of-type {\n",
       "        vertical-align: middle;\n",
       "    }\n",
       "\n",
       "    .dataframe tbody tr th {\n",
       "        vertical-align: top;\n",
       "    }\n",
       "\n",
       "    .dataframe thead th {\n",
       "        text-align: right;\n",
       "    }\n",
       "</style>\n",
       "<table border=\"1\" class=\"dataframe\">\n",
       "  <thead>\n",
       "    <tr style=\"text-align: right;\">\n",
       "      <th></th>\n",
       "      <th>nb_tweets</th>\n",
       "      <th>first_tweet</th>\n",
       "      <th>last_tweet</th>\n",
       "    </tr>\n",
       "    <tr>\n",
       "      <th>Username</th>\n",
       "      <th></th>\n",
       "      <th></th>\n",
       "      <th></th>\n",
       "    </tr>\n",
       "  </thead>\n",
       "  <tbody>\n",
       "    <tr>\n",
       "      <th>BillGates</th>\n",
       "      <td>3166</td>\n",
       "      <td>2010-01-19 22:50:41+00:00</td>\n",
       "      <td>2021-04-12 17:45:05+00:00</td>\n",
       "    </tr>\n",
       "  </tbody>\n",
       "</table>\n",
       "</div>"
      ],
      "text/plain": [
       "           nb_tweets               first_tweet                last_tweet\n",
       "Username                                                                \n",
       "BillGates       3166 2010-01-19 22:50:41+00:00 2021-04-12 17:45:05+00:00"
      ]
     },
     "execution_count": 20,
     "metadata": {},
     "output_type": "execute_result"
    }
   ],
   "source": [
    "#overall\n",
    "tweets_df2.groupby('Username').agg(nb_tweets=('Tweet Id', \"count\")\n",
    "                                   ,first_tweet=('Datetime', min), last_tweet=('Datetime', max))"
   ]
  },
  {
   "cell_type": "code",
   "execution_count": 21,
   "metadata": {
    "scrolled": true
   },
   "outputs": [
    {
     "name": "stdout",
     "output_type": "stream",
     "text": [
      "First period: Feb 19 - Apr 18 2020\n"
     ]
    },
    {
     "name": "stderr",
     "output_type": "stream",
     "text": [
      "<ipython-input-21-e56881dbc602>:3: UserWarning: Boolean Series key will be reindexed to match DataFrame index.\n",
      "  tweets_df2[tweets_df2.Datetime >= '2020-02-19'][tweets_df2.Datetime < '2020-04-18'].groupby('Username').agg(\n"
     ]
    },
    {
     "data": {
      "text/html": [
       "<div>\n",
       "<style scoped>\n",
       "    .dataframe tbody tr th:only-of-type {\n",
       "        vertical-align: middle;\n",
       "    }\n",
       "\n",
       "    .dataframe tbody tr th {\n",
       "        vertical-align: top;\n",
       "    }\n",
       "\n",
       "    .dataframe thead th {\n",
       "        text-align: right;\n",
       "    }\n",
       "</style>\n",
       "<table border=\"1\" class=\"dataframe\">\n",
       "  <thead>\n",
       "    <tr style=\"text-align: right;\">\n",
       "      <th></th>\n",
       "      <th>nb_tweets</th>\n",
       "      <th>first_tweet</th>\n",
       "      <th>last_tweet</th>\n",
       "    </tr>\n",
       "    <tr>\n",
       "      <th>Username</th>\n",
       "      <th></th>\n",
       "      <th></th>\n",
       "      <th></th>\n",
       "    </tr>\n",
       "  </thead>\n",
       "  <tbody>\n",
       "    <tr>\n",
       "      <th>BillGates</th>\n",
       "      <td>37</td>\n",
       "      <td>2020-02-19 19:48:05+00:00</td>\n",
       "      <td>2020-04-15 05:17:26+00:00</td>\n",
       "    </tr>\n",
       "  </tbody>\n",
       "</table>\n",
       "</div>"
      ],
      "text/plain": [
       "           nb_tweets               first_tweet                last_tweet\n",
       "Username                                                                \n",
       "BillGates         37 2020-02-19 19:48:05+00:00 2020-04-15 05:17:26+00:00"
      ]
     },
     "execution_count": 21,
     "metadata": {},
     "output_type": "execute_result"
    }
   ],
   "source": [
    "#1sf period\n",
    "print('First period: Feb 19 - Apr 18 2020')\n",
    "tweets_df2[tweets_df2.Datetime >= '2020-02-19'][tweets_df2.Datetime < '2020-04-18'].groupby('Username').agg(\n",
    "    nb_tweets=('Tweet Id', \"count\"),\n",
    "    first_tweet=('Datetime', min),\n",
    "    last_tweet=('Datetime', max)\n",
    ")"
   ]
  },
  {
   "cell_type": "code",
   "execution_count": 22,
   "metadata": {},
   "outputs": [
    {
     "name": "stdout",
     "output_type": "stream",
     "text": [
      "Second period: Sep 2 - Oct 12 2020\n"
     ]
    },
    {
     "name": "stderr",
     "output_type": "stream",
     "text": [
      "<ipython-input-22-0272b2110032>:3: UserWarning: Boolean Series key will be reindexed to match DataFrame index.\n",
      "  tweets_df2[tweets_df2.Datetime >= '2020-09-02'][tweets_df2.Datetime < '2020-10-13'].groupby('Username').agg(\n"
     ]
    },
    {
     "data": {
      "text/html": [
       "<div>\n",
       "<style scoped>\n",
       "    .dataframe tbody tr th:only-of-type {\n",
       "        vertical-align: middle;\n",
       "    }\n",
       "\n",
       "    .dataframe tbody tr th {\n",
       "        vertical-align: top;\n",
       "    }\n",
       "\n",
       "    .dataframe thead th {\n",
       "        text-align: right;\n",
       "    }\n",
       "</style>\n",
       "<table border=\"1\" class=\"dataframe\">\n",
       "  <thead>\n",
       "    <tr style=\"text-align: right;\">\n",
       "      <th></th>\n",
       "      <th>nb_tweets</th>\n",
       "      <th>first_tweet</th>\n",
       "      <th>last_tweet</th>\n",
       "    </tr>\n",
       "    <tr>\n",
       "      <th>Username</th>\n",
       "      <th></th>\n",
       "      <th></th>\n",
       "      <th></th>\n",
       "    </tr>\n",
       "  </thead>\n",
       "  <tbody>\n",
       "    <tr>\n",
       "      <th>BillGates</th>\n",
       "      <td>16</td>\n",
       "      <td>2020-09-03 19:33:34+00:00</td>\n",
       "      <td>2020-10-12 04:23:07+00:00</td>\n",
       "    </tr>\n",
       "  </tbody>\n",
       "</table>\n",
       "</div>"
      ],
      "text/plain": [
       "           nb_tweets               first_tweet                last_tweet\n",
       "Username                                                                \n",
       "BillGates         16 2020-09-03 19:33:34+00:00 2020-10-12 04:23:07+00:00"
      ]
     },
     "execution_count": 22,
     "metadata": {},
     "output_type": "execute_result"
    }
   ],
   "source": [
    "#2nd period\n",
    "print('Second period: Sep 2 - Oct 12 2020')\n",
    "tweets_df2[tweets_df2.Datetime >= '2020-09-02'][tweets_df2.Datetime < '2020-10-13'].groupby('Username').agg(\n",
    "    nb_tweets=('Tweet Id', \"count\"),\n",
    "    first_tweet=('Datetime', min),\n",
    "    last_tweet=('Datetime', max)\n",
    ")"
   ]
  },
  {
   "cell_type": "code",
   "execution_count": null,
   "metadata": {},
   "outputs": [],
   "source": []
  }
 ],
 "metadata": {
  "kernelspec": {
   "display_name": "Python 3",
   "language": "python",
   "name": "python3"
  },
  "language_info": {
   "codemirror_mode": {
    "name": "ipython",
    "version": 3
   },
   "file_extension": ".py",
   "mimetype": "text/x-python",
   "name": "python",
   "nbconvert_exporter": "python",
   "pygments_lexer": "ipython3",
   "version": "3.8.5"
  },
  "toc": {
   "base_numbering": 1,
   "nav_menu": {},
   "number_sections": false,
   "sideBar": true,
   "skip_h1_title": false,
   "title_cell": "Table of Contents",
   "title_sidebar": "Contents",
   "toc_cell": false,
   "toc_position": {},
   "toc_section_display": true,
   "toc_window_display": true
  }
 },
 "nbformat": 4,
 "nbformat_minor": 4
}
